{
 "cells": [
  {
   "cell_type": "code",
   "execution_count": 1,
   "metadata": {},
   "outputs": [],
   "source": [
    "from sklearn.preprocessing import StandardScaler\n",
    "import random as rd\n",
    "from random import  uniform\n",
    "from random import randint\n",
    "from random import random\n",
    "from operator import itemgetter\n",
    "from sklearn.tree import DecisionTreeRegressor\n",
    "from sklearn.model_selection import train_test_split\n",
    "from sklearn.preprocessing import StandardScaler\n",
    "from pandas import *\n",
    "from sklearn.svm import SVR\n",
    "from sklearn.svm import SVC\n",
    "from sklearn import preprocessing\n",
    "import numpy as np\n"
   ]
  },
  {
   "cell_type": "code",
   "execution_count": 2,
   "metadata": {},
   "outputs": [
    {
     "data": {
      "text/plain": [
       "-0.07796699716123578"
      ]
     },
     "execution_count": 2,
     "metadata": {},
     "output_type": "execute_result"
    }
   ],
   "source": [
    "#Ingreso del csv\n",
    "dataset = read_csv(\"proyecto_pre_procesado.csv\",sep=\";\")\n",
    "\n",
    "#Seperacion de variables\n",
    "x = dataset.iloc[:,:-1].values # DEPENDIENTES\n",
    "y = dataset.iloc[:,-1:].values.flatten() #INDEPENDIENTES\n",
    "\n",
    "#Definimos nuestras variables de entreno y prueba en 'x' y 'y'\n",
    "x_train, x_test, y_train, y_test = train_test_split(x, y, test_size=0.3)\n",
    "\n",
    "#Generamos un modelo de Maquina de vectores de soporte\n",
    "model = SVR(kernel='rbf', C = 500, epsilon=0.1)\n",
    "model.fit(x_train, y_train)\n",
    "\n",
    "#Verificamos el score\n",
    "model.score(x_test,y_test)\n"
   ]
  },
  {
   "cell_type": "code",
   "execution_count": 15,
   "metadata": {},
   "outputs": [
    {
     "data": {
      "text/plain": [
       "0.26666666666666666"
      ]
     },
     "execution_count": 15,
     "metadata": {},
     "output_type": "execute_result"
    }
   ],
   "source": [
    "#Segunda SVC\n",
    "from sklearn.svm import SVC\n",
    "Sclf =SVC(C=3.0, kernel='linear', degree=2, gamma='scale',max_iter=-1,probability=True)\n",
    "model=Sclf.fit(x_train,y_train)\n",
    "model.score(x_test,y_test)"
   ]
  },
  {
   "cell_type": "code",
   "execution_count": 48,
   "metadata": {},
   "outputs": [
    {
     "data": {
      "text/plain": [
       "-0.8226159261375472"
      ]
     },
     "execution_count": 48,
     "metadata": {},
     "output_type": "execute_result"
    }
   ],
   "source": [
    "from sklearn import linear_model\n",
    "from sklearn.metrics import r2_score\n",
    "model=linear_model.LinearRegression()\n",
    "model.fit(x_train,y_train)\n",
    "model.score(x_test,y_test)"
   ]
  },
  {
   "cell_type": "code",
   "execution_count": 4,
   "metadata": {},
   "outputs": [],
   "source": [
    "\n",
    "class AG:\n",
    "    # poblacion,max_poblacion,min_poblacion,fitness,mutacion,p_mutacion,p_cruze\n",
    "    # Minimos = [0.22,1.21,0.01,0.0027,0.1,0.01,0.01,0.01,0.0001,0.03,1,0.01,0.0012,0.01,0.01,0]\n",
    "    # Maximos = [254,1.33,23,8,148,18,14,0.05,0.0005,51,57,0.11,4,0.05,15,8]\n",
    "    \n",
    "    def __init__(self,N=10): \n",
    "        self.tamaño_poblacion=N\n",
    "        self.max_poblacion=[254,1.33,23,8,148,18,14,0.05,0.0005,51,57,0.11,4,0.05,15,8]\n",
    "        self.min_poblacion=[0.22,1.21,0.01,0.0027,0.1,0.01,0.01,0.01,0.0001,0.03,1,0.01,0.0012,0.01,0.01,0]\n",
    "        self.poblacion=None\n",
    "        self._fitness=None\n",
    "        self.mutacion=None\n",
    "        self.p_mutacion=None\n",
    "        self.p_cruce=None\n",
    "        self.seleccion=None\n",
    "        self.modelo=None\n",
    "        self._padre=None\n",
    "        self._madre=None\n",
    "        self._hijos=None\n",
    "    \n",
    "    def __str__(self):\n",
    "        print(\"Tamaño:\",self.tamaño_poblacion)\n",
    "        print(\"Max_valores:\",self.max_poblacion)\n",
    "        print(\"Min_valores:\",self.min_poblacion)\n",
    "        print(\"Poblacion:\",self.poblacion)\n",
    "        print(\"Fitness:\",self.fitness)\n",
    "        print(\"Mutacion:\",self.mutacion)\n",
    "        print(\"P_mutacion:\",self.p_mutacion)\n",
    "        print(\"P_cruze:\",self.p_cruze)\n",
    "        print(\"Modelo:\",self.modelo)\n",
    "        return \"\"\n",
    "\n",
    "        #Poblacion= [PC;PMg;PP;PS;Psi;Pti;PNb;PCr;PBr;Pal;PV;Pcu;Pca;Pni;Pmo;Pn] [0,1] 0.2  0.03\n",
    "    def _Individuo(self):\n",
    "        return [rd.uniform(self.min_poblacion[i],self.max_poblacion[i]) for i in range(16)]\n",
    "\n",
    "    def _Poblacion(self):\n",
    "        self.poblacion=[self._Individuo() for i in range(self.tamaño_poblacion)]\n",
    "\n",
    "    def _Fitness(self,individuo):\n",
    "        Fitness_valor=self._Funcion_Objetivo(individuo)\n",
    "        return Fitness_valor[0]\n",
    "\n",
    "    def _Mutacion(self,individuo):\n",
    "        if(self.p_mutacion>random()):\n",
    "            indice=randint(0,15)\n",
    "            nuevo_valor=uniform(self.min_poblacion[indice],self.max_poblacion[indice])\n",
    "            individuo[indice]=nuevo_valor\n",
    "\n",
    "    def _Cruce(self,pais):\n",
    "        self._hijos=[]\n",
    "        while(len(self._hijos))<self.tamaño_poblacion:\n",
    "            _nuevo_individuo=[]\n",
    "            self._NuevaRuleta(pais)\n",
    "            if(self.p_cruce<random()): #Usamos nuestro p-cruce\n",
    "                mitad=len(self._padre)//2\n",
    "                for indice in range(len(self._padre)):\n",
    "                    if(indice<mitad):\n",
    "                        _nuevo_individuo.append(self._padre[indice])\n",
    "                    else:\n",
    "                        _nuevo_individuo.append(self._madre[indice])\n",
    "# ------------- ERROR -----------------------------------------\n",
    "\n",
    "                self._hijos.append(_nuevo_individuo)\n",
    "            else:\n",
    "                self._hijos.append(self._padre)\n",
    "\n",
    "    def _Funcion_Objetivo(self,individuo): #16 parametros #32\n",
    "        return list(self.modelo.predict(np.matrix(individuo)))\n",
    "\n",
    "\n",
    "    def _NuevaRuleta(self,pais): #SELECCION DE RULETA\n",
    "        \"\"\"Selecciona un padre y una madre según las reglas de la ruleta.\"\"\"\n",
    "        def sortear(fitness_total, indice_a_ignorar=-1):\n",
    "            #2 parámetros garantizan que no seleccionará el mismo elemento\n",
    "            \"\"\"Configurar la ruleta para realizar el sorteo\"\"\"\n",
    "            ruleta, acumulado, valor_sorteado = [], 0, random()\n",
    "\n",
    "            if indice_a_ignorar!=-1: #Deduce del total, la cantidad que se retirará de la ruleta\n",
    "                fitness_total -= valores[0][indice_a_ignorar]\n",
    "                # L = [123,456,789,132]\n",
    "                #       0   1   2   3   -1\n",
    "            for indice, i in enumerate(valores[0]):\n",
    "                if indice_a_ignorar==indice: #ignorar el valor ya utilizado en la ruleta\n",
    "                    continue\n",
    "                acumulado += i\n",
    "                ruleta.append(acumulado/fitness_total)\n",
    "                if ruleta[-1] >= valor_sorteado:\n",
    "                    return indice\n",
    "        \n",
    "        valores = list(zip(*pais)) #crea 2 listas con valores de fitness y cromosomas\n",
    "        fitness_total = sum(valores[0])\n",
    "        # [ (314,316,  )([1.01,30.1,])  ]\n",
    "        indice_padre = sortear(fitness_total) \n",
    "        indice_madre = sortear(fitness_total, indice_padre)\n",
    "\n",
    "        self._padre = valores[1][indice_padre]\n",
    "        self._madre = valores[1][indice_madre]\n",
    "\n",
    "    def _evolucion(self,poblacion:list):\n",
    "        pais = [[self._Fitness(x),x] for x in poblacion]\n",
    "        pais.sort()\n",
    "        aux=pais\n",
    "        for i in aux:\n",
    "            print(i)\n",
    "        self._Cruce(pais)\n",
    "        #MUTACION\n",
    "        for individuo in self._hijos:\n",
    "            self._Mutacion(individuo)\n",
    "        return self._hijos\n"
   ]
  },
  {
   "cell_type": "code",
   "execution_count": null,
   "metadata": {},
   "outputs": [],
   "source": [
    "import os\n",
    "N=100\n",
    "Nuevo=AG(N)\n",
    "Nuevo.modelo=model\n",
    "Nuevo.p_cruce=0.8\n",
    "Nuevo.p_mutacion=0.3\n",
    "Nuevo._Poblacion()\n",
    "PoblacionInicial=Nuevo.poblacion\n",
    "os.system('cls')\n",
    "for i in range(200):\n",
    "    PoblacionInicial=Nuevo._evolucion(PoblacionInicial)\n",
    "todo=PoblacionInicial\n",
    "Optimo=Nuevo.poblacion[-1]\n",
    "Final=Nuevo._Fitness(Optimo)\n",
    "os.system('cls')\n",
    "print(\"---------------------------------------------------------------\")\n",
    "print(Final)\n",
    "print(\"---------------------------------------------------------------\")"
   ]
  },
  {
   "cell_type": "code",
   "execution_count": 23,
   "metadata": {},
   "outputs": [
    {
     "name": "stderr",
     "output_type": "stream",
     "text": [
      "c:\\Users\\Edward\\AppData\\Local\\Programs\\Python\\Python310\\lib\\site-packages\\sklearn\\utils\\validation.py:727: FutureWarning: np.matrix usage is deprecated in 1.0 and will raise a TypeError in 1.2. Please convert to a numpy array with np.asarray. For more information see: https://numpy.org/doc/stable/reference/generated/numpy.matrix.html\n",
      "  warnings.warn(\n",
      "c:\\Users\\Edward\\AppData\\Local\\Programs\\Python\\Python310\\lib\\site-packages\\sklearn\\utils\\validation.py:727: FutureWarning: np.matrix usage is deprecated in 1.0 and will raise a TypeError in 1.2. Please convert to a numpy array with np.asarray. For more information see: https://numpy.org/doc/stable/reference/generated/numpy.matrix.html\n",
      "  warnings.warn(\n"
     ]
    },
    {
     "ename": "ValueError",
     "evalue": "X has 17 features, but SVC is expecting 16 features as input.",
     "output_type": "error",
     "traceback": [
      "\u001b[1;31m---------------------------------------------------------------------------\u001b[0m",
      "\u001b[1;31mValueError\u001b[0m                                Traceback (most recent call last)",
      "\u001b[1;32md:\\Python\\Inteligencia Artificial\\Algoritmo_Genetico.ipynb Celda 7\u001b[0m in \u001b[0;36m<cell line: 3>\u001b[1;34m()\u001b[0m\n\u001b[0;32m      <a href='vscode-notebook-cell:/d%3A/Python/Inteligencia%20Artificial/Algoritmo_Genetico.ipynb#W6sZmlsZQ%3D%3D?line=3'>4</a>\u001b[0m \u001b[39mif\u001b[39;00m(i\u001b[39m==\u001b[39m\u001b[39m-\u001b[39m\u001b[39m10\u001b[39m):\n\u001b[0;32m      <a href='vscode-notebook-cell:/d%3A/Python/Inteligencia%20Artificial/Algoritmo_Genetico.ipynb#W6sZmlsZQ%3D%3D?line=4'>5</a>\u001b[0m     \u001b[39mbreak\u001b[39;00m\n\u001b[1;32m----> <a href='vscode-notebook-cell:/d%3A/Python/Inteligencia%20Artificial/Algoritmo_Genetico.ipynb#W6sZmlsZQ%3D%3D?line=5'>6</a>\u001b[0m y\u001b[39m=\u001b[39mNuevo\u001b[39m.\u001b[39;49m_Fitness(todo[i])\n\u001b[0;32m      <a href='vscode-notebook-cell:/d%3A/Python/Inteligencia%20Artificial/Algoritmo_Genetico.ipynb#W6sZmlsZQ%3D%3D?line=6'>7</a>\u001b[0m Nuevo_Aux\u001b[39m=\u001b[39mtodo[i]\n\u001b[0;32m      <a href='vscode-notebook-cell:/d%3A/Python/Inteligencia%20Artificial/Algoritmo_Genetico.ipynb#W6sZmlsZQ%3D%3D?line=7'>8</a>\u001b[0m Matrix\u001b[39m.\u001b[39mappend(Nuevo_Aux)\n",
      "\u001b[1;32md:\\Python\\Inteligencia Artificial\\Algoritmo_Genetico.ipynb Celda 7\u001b[0m in \u001b[0;36mAG._Fitness\u001b[1;34m(self, individuo)\u001b[0m\n\u001b[0;32m     <a href='vscode-notebook-cell:/d%3A/Python/Inteligencia%20Artificial/Algoritmo_Genetico.ipynb#W6sZmlsZQ%3D%3D?line=39'>40</a>\u001b[0m \u001b[39mdef\u001b[39;00m \u001b[39m_Fitness\u001b[39m(\u001b[39mself\u001b[39m,individuo):\n\u001b[1;32m---> <a href='vscode-notebook-cell:/d%3A/Python/Inteligencia%20Artificial/Algoritmo_Genetico.ipynb#W6sZmlsZQ%3D%3D?line=40'>41</a>\u001b[0m     Fitness_valor\u001b[39m=\u001b[39m\u001b[39mself\u001b[39;49m\u001b[39m.\u001b[39;49m_Funcion_Objetivo(individuo)\n\u001b[0;32m     <a href='vscode-notebook-cell:/d%3A/Python/Inteligencia%20Artificial/Algoritmo_Genetico.ipynb#W6sZmlsZQ%3D%3D?line=41'>42</a>\u001b[0m     \u001b[39mreturn\u001b[39;00m Fitness_valor[\u001b[39m0\u001b[39m]\n",
      "\u001b[1;32md:\\Python\\Inteligencia Artificial\\Algoritmo_Genetico.ipynb Celda 7\u001b[0m in \u001b[0;36mAG._Funcion_Objetivo\u001b[1;34m(self, individuo)\u001b[0m\n\u001b[0;32m     <a href='vscode-notebook-cell:/d%3A/Python/Inteligencia%20Artificial/Algoritmo_Genetico.ipynb#W6sZmlsZQ%3D%3D?line=67'>68</a>\u001b[0m \u001b[39mdef\u001b[39;00m \u001b[39m_Funcion_Objetivo\u001b[39m(\u001b[39mself\u001b[39m,individuo): \u001b[39m#16 parametros #32\u001b[39;00m\n\u001b[1;32m---> <a href='vscode-notebook-cell:/d%3A/Python/Inteligencia%20Artificial/Algoritmo_Genetico.ipynb#W6sZmlsZQ%3D%3D?line=68'>69</a>\u001b[0m     \u001b[39mreturn\u001b[39;00m \u001b[39mlist\u001b[39m(\u001b[39mself\u001b[39;49m\u001b[39m.\u001b[39;49mmodelo\u001b[39m.\u001b[39;49mpredict(np\u001b[39m.\u001b[39;49mmatrix(individuo)))\n",
      "File \u001b[1;32mc:\\Users\\Edward\\AppData\\Local\\Programs\\Python\\Python310\\lib\\site-packages\\sklearn\\svm\\_base.py:810\u001b[0m, in \u001b[0;36mBaseSVC.predict\u001b[1;34m(self, X)\u001b[0m\n\u001b[0;32m    808\u001b[0m     y \u001b[39m=\u001b[39m np\u001b[39m.\u001b[39margmax(\u001b[39mself\u001b[39m\u001b[39m.\u001b[39mdecision_function(X), axis\u001b[39m=\u001b[39m\u001b[39m1\u001b[39m)\n\u001b[0;32m    809\u001b[0m \u001b[39melse\u001b[39;00m:\n\u001b[1;32m--> 810\u001b[0m     y \u001b[39m=\u001b[39m \u001b[39msuper\u001b[39;49m()\u001b[39m.\u001b[39;49mpredict(X)\n\u001b[0;32m    811\u001b[0m \u001b[39mreturn\u001b[39;00m \u001b[39mself\u001b[39m\u001b[39m.\u001b[39mclasses_\u001b[39m.\u001b[39mtake(np\u001b[39m.\u001b[39masarray(y, dtype\u001b[39m=\u001b[39mnp\u001b[39m.\u001b[39mintp))\n",
      "File \u001b[1;32mc:\\Users\\Edward\\AppData\\Local\\Programs\\Python\\Python310\\lib\\site-packages\\sklearn\\svm\\_base.py:433\u001b[0m, in \u001b[0;36mBaseLibSVM.predict\u001b[1;34m(self, X)\u001b[0m\n\u001b[0;32m    417\u001b[0m \u001b[39mdef\u001b[39;00m \u001b[39mpredict\u001b[39m(\u001b[39mself\u001b[39m, X):\n\u001b[0;32m    418\u001b[0m     \u001b[39m\"\"\"Perform regression on samples in X.\u001b[39;00m\n\u001b[0;32m    419\u001b[0m \n\u001b[0;32m    420\u001b[0m \u001b[39m    For an one-class model, +1 (inlier) or -1 (outlier) is returned.\u001b[39;00m\n\u001b[1;32m   (...)\u001b[0m\n\u001b[0;32m    431\u001b[0m \u001b[39m        The predicted values.\u001b[39;00m\n\u001b[0;32m    432\u001b[0m \u001b[39m    \"\"\"\u001b[39;00m\n\u001b[1;32m--> 433\u001b[0m     X \u001b[39m=\u001b[39m \u001b[39mself\u001b[39;49m\u001b[39m.\u001b[39;49m_validate_for_predict(X)\n\u001b[0;32m    434\u001b[0m     predict \u001b[39m=\u001b[39m \u001b[39mself\u001b[39m\u001b[39m.\u001b[39m_sparse_predict \u001b[39mif\u001b[39;00m \u001b[39mself\u001b[39m\u001b[39m.\u001b[39m_sparse \u001b[39melse\u001b[39;00m \u001b[39mself\u001b[39m\u001b[39m.\u001b[39m_dense_predict\n\u001b[0;32m    435\u001b[0m     \u001b[39mreturn\u001b[39;00m predict(X)\n",
      "File \u001b[1;32mc:\\Users\\Edward\\AppData\\Local\\Programs\\Python\\Python310\\lib\\site-packages\\sklearn\\svm\\_base.py:611\u001b[0m, in \u001b[0;36mBaseLibSVM._validate_for_predict\u001b[1;34m(self, X)\u001b[0m\n\u001b[0;32m    608\u001b[0m check_is_fitted(\u001b[39mself\u001b[39m)\n\u001b[0;32m    610\u001b[0m \u001b[39mif\u001b[39;00m \u001b[39mnot\u001b[39;00m callable(\u001b[39mself\u001b[39m\u001b[39m.\u001b[39mkernel):\n\u001b[1;32m--> 611\u001b[0m     X \u001b[39m=\u001b[39m \u001b[39mself\u001b[39;49m\u001b[39m.\u001b[39;49m_validate_data(\n\u001b[0;32m    612\u001b[0m         X,\n\u001b[0;32m    613\u001b[0m         accept_sparse\u001b[39m=\u001b[39;49m\u001b[39m\"\u001b[39;49m\u001b[39mcsr\u001b[39;49m\u001b[39m\"\u001b[39;49m,\n\u001b[0;32m    614\u001b[0m         dtype\u001b[39m=\u001b[39;49mnp\u001b[39m.\u001b[39;49mfloat64,\n\u001b[0;32m    615\u001b[0m         order\u001b[39m=\u001b[39;49m\u001b[39m\"\u001b[39;49m\u001b[39mC\u001b[39;49m\u001b[39m\"\u001b[39;49m,\n\u001b[0;32m    616\u001b[0m         accept_large_sparse\u001b[39m=\u001b[39;49m\u001b[39mFalse\u001b[39;49;00m,\n\u001b[0;32m    617\u001b[0m         reset\u001b[39m=\u001b[39;49m\u001b[39mFalse\u001b[39;49;00m,\n\u001b[0;32m    618\u001b[0m     )\n\u001b[0;32m    620\u001b[0m \u001b[39mif\u001b[39;00m \u001b[39mself\u001b[39m\u001b[39m.\u001b[39m_sparse \u001b[39mand\u001b[39;00m \u001b[39mnot\u001b[39;00m sp\u001b[39m.\u001b[39misspmatrix(X):\n\u001b[0;32m    621\u001b[0m     X \u001b[39m=\u001b[39m sp\u001b[39m.\u001b[39mcsr_matrix(X)\n",
      "File \u001b[1;32mc:\\Users\\Edward\\AppData\\Local\\Programs\\Python\\Python310\\lib\\site-packages\\sklearn\\base.py:600\u001b[0m, in \u001b[0;36mBaseEstimator._validate_data\u001b[1;34m(self, X, y, reset, validate_separately, **check_params)\u001b[0m\n\u001b[0;32m    597\u001b[0m     out \u001b[39m=\u001b[39m X, y\n\u001b[0;32m    599\u001b[0m \u001b[39mif\u001b[39;00m \u001b[39mnot\u001b[39;00m no_val_X \u001b[39mand\u001b[39;00m check_params\u001b[39m.\u001b[39mget(\u001b[39m\"\u001b[39m\u001b[39mensure_2d\u001b[39m\u001b[39m\"\u001b[39m, \u001b[39mTrue\u001b[39;00m):\n\u001b[1;32m--> 600\u001b[0m     \u001b[39mself\u001b[39;49m\u001b[39m.\u001b[39;49m_check_n_features(X, reset\u001b[39m=\u001b[39;49mreset)\n\u001b[0;32m    602\u001b[0m \u001b[39mreturn\u001b[39;00m out\n",
      "File \u001b[1;32mc:\\Users\\Edward\\AppData\\Local\\Programs\\Python\\Python310\\lib\\site-packages\\sklearn\\base.py:400\u001b[0m, in \u001b[0;36mBaseEstimator._check_n_features\u001b[1;34m(self, X, reset)\u001b[0m\n\u001b[0;32m    397\u001b[0m     \u001b[39mreturn\u001b[39;00m\n\u001b[0;32m    399\u001b[0m \u001b[39mif\u001b[39;00m n_features \u001b[39m!=\u001b[39m \u001b[39mself\u001b[39m\u001b[39m.\u001b[39mn_features_in_:\n\u001b[1;32m--> 400\u001b[0m     \u001b[39mraise\u001b[39;00m \u001b[39mValueError\u001b[39;00m(\n\u001b[0;32m    401\u001b[0m         \u001b[39mf\u001b[39m\u001b[39m\"\u001b[39m\u001b[39mX has \u001b[39m\u001b[39m{\u001b[39;00mn_features\u001b[39m}\u001b[39;00m\u001b[39m features, but \u001b[39m\u001b[39m{\u001b[39;00m\u001b[39mself\u001b[39m\u001b[39m.\u001b[39m\u001b[39m__class__\u001b[39m\u001b[39m.\u001b[39m\u001b[39m__name__\u001b[39m\u001b[39m}\u001b[39;00m\u001b[39m \u001b[39m\u001b[39m\"\u001b[39m\n\u001b[0;32m    402\u001b[0m         \u001b[39mf\u001b[39m\u001b[39m\"\u001b[39m\u001b[39mis expecting \u001b[39m\u001b[39m{\u001b[39;00m\u001b[39mself\u001b[39m\u001b[39m.\u001b[39mn_features_in_\u001b[39m}\u001b[39;00m\u001b[39m features as input.\u001b[39m\u001b[39m\"\u001b[39m\n\u001b[0;32m    403\u001b[0m     )\n",
      "\u001b[1;31mValueError\u001b[0m: X has 17 features, but SVC is expecting 16 features as input."
     ]
    }
   ],
   "source": [
    "variable_x=[]\n",
    "variable_y=[]\n",
    "i=-1\n",
    "while True:\n",
    "    if(i==-10):\n",
    "        break\n",
    "    y=Nuevo._Fitness(todo[i])\n",
    "    variable_x.append(todo[i])\n",
    "    variable_y.append(y)\n",
    "    i-=1\n",
    "print(Matrix)"
   ]
  }
 ],
 "metadata": {
  "kernelspec": {
   "display_name": "Python 3.10.5 64-bit",
   "language": "python",
   "name": "python3"
  },
  "language_info": {
   "codemirror_mode": {
    "name": "ipython",
    "version": 3
   },
   "file_extension": ".py",
   "mimetype": "text/x-python",
   "name": "python",
   "nbconvert_exporter": "python",
   "pygments_lexer": "ipython3",
   "version": "3.10.5"
  },
  "orig_nbformat": 4,
  "vscode": {
   "interpreter": {
    "hash": "204cf68cbde5306ebdb29a111719c66673058cabe6e23ee361745513cd55c99f"
   }
  }
 },
 "nbformat": 4,
 "nbformat_minor": 2
}
