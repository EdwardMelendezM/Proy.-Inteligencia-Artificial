{
 "cells": [
  {
   "cell_type": "code",
   "execution_count": 20,
   "metadata": {},
   "outputs": [],
   "source": [
    "from pandas import *\n",
    "from matplotlib.pyplot import  *\n",
    "from sklearn.model_selection import train_test_split\n",
    "from sklearn.preprocessing import StandardScaler\n",
    "from sklearn.tree import DecisionTreeRegressor"
   ]
  },
  {
   "cell_type": "markdown",
   "metadata": {},
   "source": [
    "INGRESO DE DATOS DE PROYECTO"
   ]
  },
  {
   "cell_type": "code",
   "execution_count": 21,
   "metadata": {},
   "outputs": [
    {
     "data": {
      "text/html": [
       "<div>\n",
       "<style scoped>\n",
       "    .dataframe tbody tr th:only-of-type {\n",
       "        vertical-align: middle;\n",
       "    }\n",
       "\n",
       "    .dataframe tbody tr th {\n",
       "        vertical-align: top;\n",
       "    }\n",
       "\n",
       "    .dataframe thead th {\n",
       "        text-align: right;\n",
       "    }\n",
       "</style>\n",
       "<table border=\"1\" class=\"dataframe\">\n",
       "  <thead>\n",
       "    <tr style=\"text-align: right;\">\n",
       "      <th></th>\n",
       "      <th>PC</th>\n",
       "      <th>PMg</th>\n",
       "      <th>PP</th>\n",
       "      <th>PS</th>\n",
       "      <th>Psi</th>\n",
       "      <th>Pti</th>\n",
       "      <th>PNb</th>\n",
       "      <th>PCr</th>\n",
       "      <th>PBr</th>\n",
       "      <th>Pal</th>\n",
       "      <th>PV</th>\n",
       "      <th>Pcu</th>\n",
       "      <th>Pca</th>\n",
       "      <th>Pni</th>\n",
       "      <th>Pmo</th>\n",
       "      <th>Pn</th>\n",
       "      <th>Dureza</th>\n",
       "    </tr>\n",
       "  </thead>\n",
       "  <tbody>\n",
       "    <tr>\n",
       "      <th>0</th>\n",
       "      <td>235.0</td>\n",
       "      <td>1.23</td>\n",
       "      <td>21.0</td>\n",
       "      <td>0.0079</td>\n",
       "      <td>0.1</td>\n",
       "      <td>11.0</td>\n",
       "      <td>5.0</td>\n",
       "      <td>0.04</td>\n",
       "      <td>0.0004</td>\n",
       "      <td>42.0</td>\n",
       "      <td>5</td>\n",
       "      <td>0.03</td>\n",
       "      <td>0.0032</td>\n",
       "      <td>0.05</td>\n",
       "      <td>15.00</td>\n",
       "      <td>4.0000</td>\n",
       "      <td>311</td>\n",
       "    </tr>\n",
       "    <tr>\n",
       "      <th>1</th>\n",
       "      <td>242.0</td>\n",
       "      <td>1.22</td>\n",
       "      <td>14.0</td>\n",
       "      <td>0.0047</td>\n",
       "      <td>0.1</td>\n",
       "      <td>11.0</td>\n",
       "      <td>11.0</td>\n",
       "      <td>0.02</td>\n",
       "      <td>0.0005</td>\n",
       "      <td>41.0</td>\n",
       "      <td>2</td>\n",
       "      <td>0.01</td>\n",
       "      <td>0.0024</td>\n",
       "      <td>0.02</td>\n",
       "      <td>6.00</td>\n",
       "      <td>8.0000</td>\n",
       "      <td>302</td>\n",
       "    </tr>\n",
       "    <tr>\n",
       "      <th>2</th>\n",
       "      <td>234.0</td>\n",
       "      <td>1.24</td>\n",
       "      <td>19.0</td>\n",
       "      <td>0.0058</td>\n",
       "      <td>0.1</td>\n",
       "      <td>11.0</td>\n",
       "      <td>1.0</td>\n",
       "      <td>0.04</td>\n",
       "      <td>0.0005</td>\n",
       "      <td>44.0</td>\n",
       "      <td>4</td>\n",
       "      <td>0.02</td>\n",
       "      <td>0.0017</td>\n",
       "      <td>0.03</td>\n",
       "      <td>0.01</td>\n",
       "      <td>0.0048</td>\n",
       "      <td>321</td>\n",
       "    </tr>\n",
       "    <tr>\n",
       "      <th>3</th>\n",
       "      <td>252.0</td>\n",
       "      <td>1.25</td>\n",
       "      <td>16.0</td>\n",
       "      <td>7.0000</td>\n",
       "      <td>101.0</td>\n",
       "      <td>13.0</td>\n",
       "      <td>4.0</td>\n",
       "      <td>0.03</td>\n",
       "      <td>0.0004</td>\n",
       "      <td>41.0</td>\n",
       "      <td>6</td>\n",
       "      <td>0.03</td>\n",
       "      <td>0.0035</td>\n",
       "      <td>0.03</td>\n",
       "      <td>15.00</td>\n",
       "      <td>0.0055</td>\n",
       "      <td>321</td>\n",
       "    </tr>\n",
       "    <tr>\n",
       "      <th>4</th>\n",
       "      <td>227.0</td>\n",
       "      <td>1.28</td>\n",
       "      <td>23.0</td>\n",
       "      <td>0.0072</td>\n",
       "      <td>103.0</td>\n",
       "      <td>12.0</td>\n",
       "      <td>5.0</td>\n",
       "      <td>0.04</td>\n",
       "      <td>0.0004</td>\n",
       "      <td>33.0</td>\n",
       "      <td>8</td>\n",
       "      <td>0.02</td>\n",
       "      <td>0.0022</td>\n",
       "      <td>0.04</td>\n",
       "      <td>15.00</td>\n",
       "      <td>0.0046</td>\n",
       "      <td>293</td>\n",
       "    </tr>\n",
       "  </tbody>\n",
       "</table>\n",
       "</div>"
      ],
      "text/plain": [
       "      PC   PMg    PP      PS    Psi   Pti   PNb   PCr     PBr   Pal  PV   Pcu  \\\n",
       "0  235.0  1.23  21.0  0.0079    0.1  11.0   5.0  0.04  0.0004  42.0   5  0.03   \n",
       "1  242.0  1.22  14.0  0.0047    0.1  11.0  11.0  0.02  0.0005  41.0   2  0.01   \n",
       "2  234.0  1.24  19.0  0.0058    0.1  11.0   1.0  0.04  0.0005  44.0   4  0.02   \n",
       "3  252.0  1.25  16.0  7.0000  101.0  13.0   4.0  0.03  0.0004  41.0   6  0.03   \n",
       "4  227.0  1.28  23.0  0.0072  103.0  12.0   5.0  0.04  0.0004  33.0   8  0.02   \n",
       "\n",
       "      Pca   Pni    Pmo      Pn  Dureza  \n",
       "0  0.0032  0.05  15.00  4.0000     311  \n",
       "1  0.0024  0.02   6.00  8.0000     302  \n",
       "2  0.0017  0.03   0.01  0.0048     321  \n",
       "3  0.0035  0.03  15.00  0.0055     321  \n",
       "4  0.0022  0.04  15.00  0.0046     293  "
      ]
     },
     "execution_count": 21,
     "metadata": {},
     "output_type": "execute_result"
    }
   ],
   "source": [
    "dataset = read_csv(\"proyecto_pre_procesado.csv\", sep=';')\n",
    "dataset.head()"
   ]
  },
  {
   "cell_type": "markdown",
   "metadata": {},
   "source": [
    "DECLARAR VARIABLES DEPENDIENTES E INDEPENDIENTES"
   ]
  },
  {
   "cell_type": "code",
   "execution_count": 22,
   "metadata": {},
   "outputs": [],
   "source": [
    "x = dataset.iloc[:,:-1].values # DEPENDIENTES\n",
    "y = dataset.iloc[:,-1:].values # INDEPENDIENTES"
   ]
  },
  {
   "cell_type": "markdown",
   "metadata": {},
   "source": [
    "SEPARAMOS LOS DATOS COMO - ENTRENAMIENTO Y TESTEO"
   ]
  },
  {
   "cell_type": "code",
   "execution_count": 23,
   "metadata": {},
   "outputs": [],
   "source": [
    "#Variables de testeo y de entrenamiento\n",
    "x_train,x_test,y_train,y_test = train_test_split(x,y,test_size=0.2,random_state=0)\n"
   ]
  },
  {
   "cell_type": "code",
   "execution_count": 25,
   "metadata": {},
   "outputs": [],
   "source": [
    "x_sc = StandardScaler() # Creamos \n",
    "X_train = x_sc.fit_transform(x_train) #Entrenamos nuestros datos"
   ]
  },
  {
   "cell_type": "code",
   "execution_count": 47,
   "metadata": {},
   "outputs": [
    {
     "data": {
      "text/html": [
       "<style>#sk-container-id-5 {color: black;background-color: white;}#sk-container-id-5 pre{padding: 0;}#sk-container-id-5 div.sk-toggleable {background-color: white;}#sk-container-id-5 label.sk-toggleable__label {cursor: pointer;display: block;width: 100%;margin-bottom: 0;padding: 0.3em;box-sizing: border-box;text-align: center;}#sk-container-id-5 label.sk-toggleable__label-arrow:before {content: \"▸\";float: left;margin-right: 0.25em;color: #696969;}#sk-container-id-5 label.sk-toggleable__label-arrow:hover:before {color: black;}#sk-container-id-5 div.sk-estimator:hover label.sk-toggleable__label-arrow:before {color: black;}#sk-container-id-5 div.sk-toggleable__content {max-height: 0;max-width: 0;overflow: hidden;text-align: left;background-color: #f0f8ff;}#sk-container-id-5 div.sk-toggleable__content pre {margin: 0.2em;color: black;border-radius: 0.25em;background-color: #f0f8ff;}#sk-container-id-5 input.sk-toggleable__control:checked~div.sk-toggleable__content {max-height: 200px;max-width: 100%;overflow: auto;}#sk-container-id-5 input.sk-toggleable__control:checked~label.sk-toggleable__label-arrow:before {content: \"▾\";}#sk-container-id-5 div.sk-estimator input.sk-toggleable__control:checked~label.sk-toggleable__label {background-color: #d4ebff;}#sk-container-id-5 div.sk-label input.sk-toggleable__control:checked~label.sk-toggleable__label {background-color: #d4ebff;}#sk-container-id-5 input.sk-hidden--visually {border: 0;clip: rect(1px 1px 1px 1px);clip: rect(1px, 1px, 1px, 1px);height: 1px;margin: -1px;overflow: hidden;padding: 0;position: absolute;width: 1px;}#sk-container-id-5 div.sk-estimator {font-family: monospace;background-color: #f0f8ff;border: 1px dotted black;border-radius: 0.25em;box-sizing: border-box;margin-bottom: 0.5em;}#sk-container-id-5 div.sk-estimator:hover {background-color: #d4ebff;}#sk-container-id-5 div.sk-parallel-item::after {content: \"\";width: 100%;border-bottom: 1px solid gray;flex-grow: 1;}#sk-container-id-5 div.sk-label:hover label.sk-toggleable__label {background-color: #d4ebff;}#sk-container-id-5 div.sk-serial::before {content: \"\";position: absolute;border-left: 1px solid gray;box-sizing: border-box;top: 0;bottom: 0;left: 50%;z-index: 0;}#sk-container-id-5 div.sk-serial {display: flex;flex-direction: column;align-items: center;background-color: white;padding-right: 0.2em;padding-left: 0.2em;position: relative;}#sk-container-id-5 div.sk-item {position: relative;z-index: 1;}#sk-container-id-5 div.sk-parallel {display: flex;align-items: stretch;justify-content: center;background-color: white;position: relative;}#sk-container-id-5 div.sk-item::before, #sk-container-id-5 div.sk-parallel-item::before {content: \"\";position: absolute;border-left: 1px solid gray;box-sizing: border-box;top: 0;bottom: 0;left: 50%;z-index: -1;}#sk-container-id-5 div.sk-parallel-item {display: flex;flex-direction: column;z-index: 1;position: relative;background-color: white;}#sk-container-id-5 div.sk-parallel-item:first-child::after {align-self: flex-end;width: 50%;}#sk-container-id-5 div.sk-parallel-item:last-child::after {align-self: flex-start;width: 50%;}#sk-container-id-5 div.sk-parallel-item:only-child::after {width: 0;}#sk-container-id-5 div.sk-dashed-wrapped {border: 1px dashed gray;margin: 0 0.4em 0.5em 0.4em;box-sizing: border-box;padding-bottom: 0.4em;background-color: white;}#sk-container-id-5 div.sk-label label {font-family: monospace;font-weight: bold;display: inline-block;line-height: 1.2em;}#sk-container-id-5 div.sk-label-container {text-align: center;}#sk-container-id-5 div.sk-container {/* jupyter's `normalize.less` sets `[hidden] { display: none; }` but bootstrap.min.css set `[hidden] { display: none !important; }` so we also need the `!important` here to be able to override the default hidden behavior on the sphinx rendered scikit-learn.org. See: https://github.com/scikit-learn/scikit-learn/issues/21755 */display: inline-block !important;position: relative;}#sk-container-id-5 div.sk-text-repr-fallback {display: none;}</style><div id=\"sk-container-id-5\" class=\"sk-top-container\"><div class=\"sk-text-repr-fallback\"><pre>DecisionTreeRegressor(random_state=0)</pre><b>In a Jupyter environment, please rerun this cell to show the HTML representation or trust the notebook. <br />On GitHub, the HTML representation is unable to render, please try loading this page with nbviewer.org.</b></div><div class=\"sk-container\" hidden><div class=\"sk-item\"><div class=\"sk-estimator sk-toggleable\"><input class=\"sk-toggleable__control sk-hidden--visually\" id=\"sk-estimator-id-5\" type=\"checkbox\" checked><label for=\"sk-estimator-id-5\" class=\"sk-toggleable__label sk-toggleable__label-arrow\">DecisionTreeRegressor</label><div class=\"sk-toggleable__content\"><pre>DecisionTreeRegressor(random_state=0)</pre></div></div></div></div></div>"
      ],
      "text/plain": [
       "DecisionTreeRegressor(random_state=0)"
      ]
     },
     "execution_count": 47,
     "metadata": {},
     "output_type": "execute_result"
    }
   ],
   "source": [
    "regresion = DecisionTreeRegressor(random_state=0)\n",
    "regresion.fit(X_train,y_train)"
   ]
  },
  {
   "cell_type": "code",
   "execution_count": 53,
   "metadata": {},
   "outputs": [
    {
     "data": {
      "text/plain": [
       "-0.7899934645269042"
      ]
     },
     "execution_count": 53,
     "metadata": {},
     "output_type": "execute_result"
    }
   ],
   "source": [
    "regresion.score(x_test,y_test)"
   ]
  },
  {
   "cell_type": "code",
   "execution_count": 63,
   "metadata": {},
   "outputs": [
    {
     "data": {
      "text/plain": [
       "[311.0,\n",
       " 302.0,\n",
       " 311.0,\n",
       " 311.0,\n",
       " 293.0,\n",
       " 302.0,\n",
       " 311.0,\n",
       " 293.0,\n",
       " 311.0,\n",
       " 293.0,\n",
       " 311.0,\n",
       " 302.0,\n",
       " 293.0,\n",
       " 311.0,\n",
       " 321.0,\n",
       " 302.0,\n",
       " 311.0,\n",
       " 302.0,\n",
       " 321.0,\n",
       " 293.0]"
      ]
     },
     "execution_count": 63,
     "metadata": {},
     "output_type": "execute_result"
    }
   ],
   "source": [
    "# Predecir resultados\n",
    "predic = regresion.predict(x_sc.transform(x_test))\n",
    "list(predic)\n"
   ]
  },
  {
   "cell_type": "code",
   "execution_count": 62,
   "metadata": {},
   "outputs": [
    {
     "name": "stdout",
     "output_type": "stream",
     "text": [
      "[293] 311.0 [-18.]\n",
      "[286] 302.0 [-16.]\n",
      "[321] 311.0 [10.]\n",
      "[311] 311.0 [0.]\n",
      "[311] 293.0 [18.]\n",
      "[321] 302.0 [19.]\n",
      "[302] 311.0 [-9.]\n",
      "[302] 293.0 [9.]\n",
      "[286] 311.0 [-25.]\n",
      "[302] 293.0 [9.]\n",
      "[286] 311.0 [-25.]\n",
      "[293] 302.0 [-9.]\n",
      "[302] 293.0 [9.]\n",
      "[293] 311.0 [-18.]\n",
      "[311] 321.0 [-10.]\n",
      "[302] 302.0 [0.]\n",
      "[321] 311.0 [10.]\n",
      "[311] 302.0 [9.]\n",
      "[321] 321.0 [0.]\n",
      "[311] 293.0 [18.]\n",
      "Porcentaje: 0.15\n"
     ]
    }
   ],
   "source": [
    "suma=0\n",
    "for valor in range(len(predic)):\n",
    "    porcentaje=y_test[valor] - predic[valor] \n",
    "    if(-1<porcentaje<1):\n",
    "        suma+=1\n",
    "    print(y_test[valor],predic[valor],porcentaje)\n",
    "print(\"Porcentaje:\",suma/len(predic))\n"
   ]
  },
  {
   "cell_type": "code",
   "execution_count": 58,
   "metadata": {},
   "outputs": [
    {
     "name": "stdout",
     "output_type": "stream",
     "text": [
      "[[2.51e+02 1.26e+00 1.00e-02 5.70e-03 1.18e+02 9.00e+00 1.00e+00 1.00e-02\n",
      "  2.00e-04 3.70e+01 3.00e+00 2.00e-02 2.80e-03 3.00e-02 7.00e+00 6.20e-03]\n",
      " [2.32e+02 1.27e+00 1.30e+01 3.50e-03 1.50e-01 1.40e+01 2.00e+00 1.00e-02\n",
      "  3.00e-04 2.90e+01 2.00e+00 1.00e-02 3.20e-03 1.00e-02 1.00e+00 6.00e+00]\n",
      " [2.34e+02 1.24e+00 1.90e+01 5.80e-03 1.00e-01 1.10e+01 1.00e+00 4.00e-02\n",
      "  5.00e-04 4.40e+01 4.00e+00 2.00e-02 1.70e-03 3.00e-02 1.00e-02 4.80e-03]\n",
      " [2.31e+02 1.26e+00 1.60e+01 5.50e-03 1.30e-01 1.10e+01 1.00e+00 2.00e-02\n",
      "  3.00e-04 3.40e+01 4.00e+00 3.00e-02 1.80e-03 3.00e-02 6.00e+00 5.10e-03]\n",
      " [2.20e-01 1.24e+00 2.10e+01 5.40e-03 1.39e+02 1.30e+01 1.00e-02 2.00e-02\n",
      "  3.00e-04 4.80e+01 2.00e+00 1.00e-02 2.80e-03 2.00e-02 7.00e+00 6.00e+00]\n",
      " [2.41e+02 1.29e+00 1.30e+01 4.50e-03 1.50e-01 1.30e+01 1.00e+00 2.00e-02\n",
      "  5.00e-04 4.20e+01 4.00e+00 2.00e-02 2.60e-03 3.00e-02 6.00e+00 4.90e-03]\n",
      " [2.37e+02 1.24e+00 1.30e+01 4.90e-03 1.13e+02 1.10e+01 1.00e-02 3.00e-02\n",
      "  4.00e-04 2.50e+01 4.00e+00 3.00e-02 2.00e+00 3.00e-02 8.00e+00 5.70e-03]\n",
      " [2.33e+02 1.26e+00 1.40e+01 5.00e+00 1.37e+02 1.20e+01 1.00e+00 2.00e-02\n",
      "  3.00e-04 4.30e+01 3.00e+00 2.00e-02 2.90e-03 3.00e-02 6.00e+00 3.50e-03]\n",
      " [2.20e-01 1.26e+00 1.70e+01 4.60e-03 1.29e+02 1.30e+01 1.00e+00 3.00e-02\n",
      "  4.00e-04 4.40e+01 4.00e+00 3.00e-02 2.30e-03 3.00e-02 1.00e-02 4.80e-03]\n",
      " [2.45e+02 1.29e+00 2.10e+01 5.50e-03 1.50e-01 1.50e+01 3.00e+00 5.00e-02\n",
      "  3.00e-04 2.70e+01 6.00e+00 5.00e-02 2.40e-03 4.00e-02 1.20e+01 5.50e-03]\n",
      " [2.31e+02 1.26e+00 1.50e+01 8.00e+00 1.28e+02 1.20e+01 9.00e+00 2.00e-02\n",
      "  5.00e-04 2.80e+01 3.00e+00 1.00e-02 2.80e-03 2.00e-02 7.00e+00 3.50e-03]\n",
      " [2.27e+02 1.26e+00 1.20e+01 3.00e+00 1.50e-01 1.50e+01 2.00e+00 1.00e-02\n",
      "  3.00e-04 2.40e+01 2.00e+00 2.00e-02 3.70e-03 1.00e-02 4.00e+00 5.40e-03]\n",
      " [2.37e+02 1.26e+00 9.00e+00 5.80e-03 1.42e+02 1.20e+01 1.00e+00 1.00e-02\n",
      "  3.00e-04 2.80e+01 4.00e+00 5.00e-02 2.80e-03 3.00e-02 6.00e+00 5.40e-03]\n",
      " [2.30e-01 1.26e+00 1.20e+01 6.50e-03 1.12e+02 9.00e+00 2.00e+00 2.00e-02\n",
      "  3.00e-04 3.70e+01 3.00e+00 1.00e-02 2.90e-03 3.00e-02 5.00e+00 5.70e-03]\n",
      " [2.32e+02 1.26e+00 1.60e+01 5.00e+00 1.06e+02 1.10e+01 3.00e+00 3.00e-02\n",
      "  5.00e-04 3.50e+01 5.00e+00 2.00e-02 3.80e-03 3.00e-02 1.10e+01 3.60e-03]\n",
      " [2.33e+02 1.27e+00 1.20e+01 5.10e-03 1.20e-01 1.40e+01 3.00e+00 3.00e-02\n",
      "  5.00e-04 4.10e+01 5.00e+00 3.00e-02 2.30e-03 3.00e-02 1.50e+01 5.30e-03]\n",
      " [2.33e+02 1.28e+00 1.30e+01 5.20e-03 1.16e+02 1.00e-02 1.00e+00 2.00e-02\n",
      "  3.00e-04 3.80e+01 4.00e+00 2.00e-02 2.90e-03 3.00e-02 7.00e+00 3.70e-03]\n",
      " [2.38e+02 1.25e+00 1.30e+01 4.90e-03 1.17e+02 1.10e+01 1.40e+01 2.00e-02\n",
      "  3.00e-04 4.50e+01 4.00e+00 2.00e-02 1.90e-03 2.00e-02 7.00e+00 0.00e+00]\n",
      " [2.50e-01 1.33e+00 1.80e+01 5.70e-03 1.20e-01 9.00e+00 1.00e+00 2.00e-02\n",
      "  3.00e-04 3.50e+01 2.00e+00 1.00e-02 2.60e-03 2.00e-02 7.00e+00 3.90e-03]\n",
      " [2.46e+02 1.28e+00 1.70e+01 7.70e-03 1.06e+02 1.30e+01 6.00e+00 3.00e-02\n",
      "  4.00e-04 3.80e+01 6.00e+00 2.00e-02 2.00e+00 3.00e-02 1.00e-02 5.00e+00]]\n"
     ]
    }
   ],
   "source": [
    "print(x_test)"
   ]
  },
  {
   "cell_type": "code",
   "execution_count": 45,
   "metadata": {},
   "outputs": [
    {
     "data": {
      "text/plain": [
       "-0.8587067616340351"
      ]
     },
     "execution_count": 45,
     "metadata": {},
     "output_type": "execute_result"
    }
   ],
   "source": []
  },
  {
   "cell_type": "code",
   "execution_count": 49,
   "metadata": {},
   "outputs": [
    {
     "ename": "TypeError",
     "evalue": "'numpy.ndarray' object is not callable",
     "output_type": "error",
     "traceback": [
      "\u001b[1;31m---------------------------------------------------------------------------\u001b[0m",
      "\u001b[1;31mTypeError\u001b[0m                                 Traceback (most recent call last)",
      "\u001b[1;32md:\\Python\\Inteligencia Artificial\\Modelo_v1.ipynb Celda 14\u001b[0m in \u001b[0;36m<cell line: 1>\u001b[1;34m()\u001b[0m\n\u001b[1;32m----> <a href='vscode-notebook-cell:/d%3A/Python/Inteligencia%20Artificial/Modelo_v1.ipynb#X15sZmlsZQ%3D%3D?line=0'>1</a>\u001b[0m \u001b[39mprint\u001b[39m(predic(dataset[\u001b[39m\"\u001b[39;49m\u001b[39mDureza\u001b[39;49m\u001b[39m\"\u001b[39;49m][valor]))\n\u001b[0;32m      <a href='vscode-notebook-cell:/d%3A/Python/Inteligencia%20Artificial/Modelo_v1.ipynb#X15sZmlsZQ%3D%3D?line=1'>2</a>\u001b[0m \u001b[39mtype\u001b[39m(predic(dataset[\u001b[39m\"\u001b[39m\u001b[39mDureza\u001b[39m\u001b[39m\"\u001b[39m][valor]))\n",
      "\u001b[1;31mTypeError\u001b[0m: 'numpy.ndarray' object is not callable"
     ]
    }
   ],
   "source": [
    "print(predic(dataset[\"Dureza\"][valor]))\n",
    "type(predic(dataset[\"Dureza\"][valor]))"
   ]
  }
 ],
 "metadata": {
  "kernelspec": {
   "display_name": "Python 3.10.5 64-bit",
   "language": "python",
   "name": "python3"
  },
  "language_info": {
   "codemirror_mode": {
    "name": "ipython",
    "version": 3
   },
   "file_extension": ".py",
   "mimetype": "text/x-python",
   "name": "python",
   "nbconvert_exporter": "python",
   "pygments_lexer": "ipython3",
   "version": "3.10.5"
  },
  "orig_nbformat": 4,
  "vscode": {
   "interpreter": {
    "hash": "204cf68cbde5306ebdb29a111719c66673058cabe6e23ee361745513cd55c99f"
   }
  }
 },
 "nbformat": 4,
 "nbformat_minor": 2
}
