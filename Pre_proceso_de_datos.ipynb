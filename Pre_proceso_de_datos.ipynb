{
 "cells": [
  {
   "cell_type": "markdown",
   "metadata": {},
   "source": [
    "PRE PROCESADO DE DATOS "
   ]
  },
  {
   "cell_type": "code",
   "execution_count": 1,
   "metadata": {},
   "outputs": [
    {
     "name": "stdout",
     "output_type": "stream",
     "text": [
      "(142, 1)\n"
     ]
    },
    {
     "data": {
      "text/plain": [
       "PC;PMg;PP;PS;Psi;Pti;PNb;PCr;PBr;Pal;PV;Pcu;Pca;Pni;Pmo;Pn;Dureza    object\n",
       "dtype: object"
      ]
     },
     "execution_count": 1,
     "metadata": {},
     "output_type": "execute_result"
    }
   ],
   "source": [
    "from pandas import *\n",
    "dataset=read_csv(\"Proyecto_dataset.csv\")\n",
    "\n",
    "dataset.describe(include=\"all\") #Ver lo datos de manera objetiva\n",
    "print(dataset.shape) # Tamaño del csv\n",
    "\n",
    "dataset.dtypes"
   ]
  },
  {
   "cell_type": "markdown",
   "metadata": {},
   "source": [
    "REDUCCION DE DATOS"
   ]
  },
  {
   "cell_type": "code",
   "execution_count": 2,
   "metadata": {},
   "outputs": [
    {
     "data": {
      "text/plain": [
       "PC;PMg;PP;PS;Psi;Pti;PNb;PCr;PBr;Pal;PV;Pcu;Pca;Pni;Pmo;Pn;Dureza    99\n",
       "dtype: int64"
      ]
     },
     "execution_count": 2,
     "metadata": {},
     "output_type": "execute_result"
    }
   ],
   "source": [
    "#Muestra la cantidad de valores unicos\n",
    "dataset.nunique()"
   ]
  },
  {
   "cell_type": "code",
   "execution_count": 3,
   "metadata": {},
   "outputs": [
    {
     "data": {
      "text/plain": [
       "PC;PMg;PP;PS;Psi;Pti;PNb;PCr;PBr;Pal;PV;Pcu;Pca;Pni;Pmo;Pn;Dureza    0.697183\n",
       "dtype: float64"
      ]
     },
     "execution_count": 3,
     "metadata": {},
     "output_type": "execute_result"
    }
   ],
   "source": [
    "# Obtener porcentaje de filas (registros) unicas por cada columna\n",
    "# (variable). Mientras mas cercano sea el valor a 1 significa que\n",
    "# tiene mas filas (regustris) únicos\n",
    "dataset.nunique()/len(dataset)"
   ]
  },
  {
   "cell_type": "code",
   "execution_count": 4,
   "metadata": {},
   "outputs": [
    {
     "name": "stdout",
     "output_type": "stream",
     "text": [
      "Este es el criterio: PC;PMg;PP;PS;Psi;Pti;PNb;PCr;PBr;Pal;PV;Pcu;Pca;Pni;Pmo;Pn;Dureza    False\n",
      "dtype: bool\n"
     ]
    },
    {
     "data": {
      "text/plain": [
       "Index([], dtype='object')"
      ]
     },
     "execution_count": 4,
     "metadata": {},
     "output_type": "execute_result"
    }
   ],
   "source": [
    "# Determinar aquellas columnas (variables) que tengan un \n",
    "# porcentaje de filas (registros) únicas por cada columna\n",
    "# (variable) mayor al valor de 0.7\n",
    "porcentaje=0.7\n",
    "porcentajes_dataset = dataset.nunique()/len(dataset)\n",
    "criterio = porcentajes_dataset > porcentaje\n",
    "print(\"Este es el criterio:\",criterio)\n",
    "columnas_to_filtrar = porcentajes_dataset[criterio].keys()\n",
    "columnas_to_filtrar"
   ]
  },
  {
   "cell_type": "code",
   "execution_count": 5,
   "metadata": {},
   "outputs": [
    {
     "data": {
      "text/html": [
       "<div>\n",
       "<style scoped>\n",
       "    .dataframe tbody tr th:only-of-type {\n",
       "        vertical-align: middle;\n",
       "    }\n",
       "\n",
       "    .dataframe tbody tr th {\n",
       "        vertical-align: top;\n",
       "    }\n",
       "\n",
       "    .dataframe thead th {\n",
       "        text-align: right;\n",
       "    }\n",
       "</style>\n",
       "<table border=\"1\" class=\"dataframe\">\n",
       "  <thead>\n",
       "    <tr style=\"text-align: right;\">\n",
       "      <th></th>\n",
       "      <th>PC;PMg;PP;PS;Psi;Pti;PNb;PCr;PBr;Pal;PV;Pcu;Pca;Pni;Pmo;Pn;Dureza</th>\n",
       "    </tr>\n",
       "  </thead>\n",
       "  <tbody>\n",
       "    <tr>\n",
       "      <th>0</th>\n",
       "      <td>235;1.23;21;0.0079;0.1;11;5;0.04;0.0004;42;5;0...</td>\n",
       "    </tr>\n",
       "    <tr>\n",
       "      <th>1</th>\n",
       "      <td>242;1.22;14;0.0047;0.1;11;11;0.02;0.0005;41;2;...</td>\n",
       "    </tr>\n",
       "    <tr>\n",
       "      <th>2</th>\n",
       "      <td>234;1.24;19;0.0058;0.1;11;1;0.04;0.0005;44;4;0...</td>\n",
       "    </tr>\n",
       "    <tr>\n",
       "      <th>3</th>\n",
       "      <td>252;1.25;16;7;101;13;4;0.03;0.0004;41;6;0.03;0...</td>\n",
       "    </tr>\n",
       "    <tr>\n",
       "      <th>4</th>\n",
       "      <td>227;1.28;23;0.0072;103;12;5;0.04;0.0004;33;8;0...</td>\n",
       "    </tr>\n",
       "    <tr>\n",
       "      <th>...</th>\n",
       "      <td>...</td>\n",
       "    </tr>\n",
       "    <tr>\n",
       "      <th>137</th>\n",
       "      <td>0.23;1.26;15;5;118;11;1;0.03;0.0005;35;4;0.04;...</td>\n",
       "    </tr>\n",
       "    <tr>\n",
       "      <th>138</th>\n",
       "      <td>251;1.26;0.01;0.0057;118;9;1;0.01;0.0002;37;3;...</td>\n",
       "    </tr>\n",
       "    <tr>\n",
       "      <th>139</th>\n",
       "      <td>234;1.24;18;8;118;12;1;0.03;0.0003;36;3;0.03;0...</td>\n",
       "    </tr>\n",
       "    <tr>\n",
       "      <th>140</th>\n",
       "      <td>0.22;1.24;15;8;118;12;3;0.03;0.0004;44;5;0.02;...</td>\n",
       "    </tr>\n",
       "    <tr>\n",
       "      <th>141</th>\n",
       "      <td>239;1.26;16;0.0076;119;15;4;0.03;0.0003;43;6;0...</td>\n",
       "    </tr>\n",
       "  </tbody>\n",
       "</table>\n",
       "<p>142 rows × 1 columns</p>\n",
       "</div>"
      ],
      "text/plain": [
       "    PC;PMg;PP;PS;Psi;Pti;PNb;PCr;PBr;Pal;PV;Pcu;Pca;Pni;Pmo;Pn;Dureza\n",
       "0    235;1.23;21;0.0079;0.1;11;5;0.04;0.0004;42;5;0...               \n",
       "1    242;1.22;14;0.0047;0.1;11;11;0.02;0.0005;41;2;...               \n",
       "2    234;1.24;19;0.0058;0.1;11;1;0.04;0.0005;44;4;0...               \n",
       "3    252;1.25;16;7;101;13;4;0.03;0.0004;41;6;0.03;0...               \n",
       "4    227;1.28;23;0.0072;103;12;5;0.04;0.0004;33;8;0...               \n",
       "..                                                 ...               \n",
       "137  0.23;1.26;15;5;118;11;1;0.03;0.0005;35;4;0.04;...               \n",
       "138  251;1.26;0.01;0.0057;118;9;1;0.01;0.0002;37;3;...               \n",
       "139  234;1.24;18;8;118;12;1;0.03;0.0003;36;3;0.03;0...               \n",
       "140  0.22;1.24;15;8;118;12;3;0.03;0.0004;44;5;0.02;...               \n",
       "141  239;1.26;16;0.0076;119;15;4;0.03;0.0003;43;6;0...               \n",
       "\n",
       "[142 rows x 1 columns]"
      ]
     },
     "execution_count": 5,
     "metadata": {},
     "output_type": "execute_result"
    }
   ],
   "source": [
    "#Eliminar las columnas (variables) seleccionadas en el paso \n",
    "# anterior. Al aplicar \"drop\" obtenemos un nuevo \"DataFrame\", \n",
    "# pero con el parámetro\n",
    "#inplace igual a \"True\" podemos realizar dicha operación de \n",
    "# eliminación y sobre-escribir el \"DataFrame\" del cual estamos\n",
    "#  eliminando con el\n",
    "#nuevo \"DataFrame\" obtenido. El parámetro axis permite seleccionar\n",
    "#  el eje respecto al cual aplicar la operación \"drop\". Los \n",
    "# valores válidos\n",
    "#son [0 o \"index\"] y [1 o \"columns\"]\n",
    "\n",
    "dataset.drop(columnas_to_filtrar,axis=1,inplace=True)\n",
    "dataset"
   ]
  },
  {
   "cell_type": "markdown",
   "metadata": {},
   "source": [
    "LIMPIEZA DE DATOS DUPLICADOS"
   ]
  },
  {
   "cell_type": "code",
   "execution_count": 6,
   "metadata": {},
   "outputs": [
    {
     "name": "stdout",
     "output_type": "stream",
     "text": [
      "43\n"
     ]
    }
   ],
   "source": [
    "#Determinar duplicados\n",
    "print(len([e for e in dataset.duplicated() if e==True]))"
   ]
  },
  {
   "cell_type": "code",
   "execution_count": 7,
   "metadata": {},
   "outputs": [
    {
     "data": {
      "text/plain": [
       "(99, 1)"
      ]
     },
     "execution_count": 7,
     "metadata": {},
     "output_type": "execute_result"
    }
   ],
   "source": [
    "#Al aplicar \"drop_duplicates\" obtenemos un nuevo \"DataFrame\", pero\n",
    "#  con el parámetro inplace igual a \"True\" podemos realizar dicha\n",
    "#  operación de eliminación y sobre-escribir el \"DataFrame\" del \n",
    "#  cual estamos eliminando con el nuevo \"DataFrame\" obtenido\n",
    "\n",
    "dataset.drop_duplicates(keep=\"first\", inplace=True)\n",
    "dataset.shape\n"
   ]
  },
  {
   "cell_type": "markdown",
   "metadata": {},
   "source": [
    "TRATAMIENTO DE VALORES FALTANTES"
   ]
  },
  {
   "cell_type": "code",
   "execution_count": 8,
   "metadata": {},
   "outputs": [
    {
     "data": {
      "text/html": [
       "<div>\n",
       "<style scoped>\n",
       "    .dataframe tbody tr th:only-of-type {\n",
       "        vertical-align: middle;\n",
       "    }\n",
       "\n",
       "    .dataframe tbody tr th {\n",
       "        vertical-align: top;\n",
       "    }\n",
       "\n",
       "    .dataframe thead th {\n",
       "        text-align: right;\n",
       "    }\n",
       "</style>\n",
       "<table border=\"1\" class=\"dataframe\">\n",
       "  <thead>\n",
       "    <tr style=\"text-align: right;\">\n",
       "      <th></th>\n",
       "      <th>PC;PMg;PP;PS;Psi;Pti;PNb;PCr;PBr;Pal;PV;Pcu;Pca;Pni;Pmo;Pn;Dureza</th>\n",
       "    </tr>\n",
       "  </thead>\n",
       "  <tbody>\n",
       "    <tr>\n",
       "      <th>0</th>\n",
       "      <td>False</td>\n",
       "    </tr>\n",
       "    <tr>\n",
       "      <th>1</th>\n",
       "      <td>False</td>\n",
       "    </tr>\n",
       "    <tr>\n",
       "      <th>2</th>\n",
       "      <td>False</td>\n",
       "    </tr>\n",
       "    <tr>\n",
       "      <th>3</th>\n",
       "      <td>False</td>\n",
       "    </tr>\n",
       "    <tr>\n",
       "      <th>4</th>\n",
       "      <td>False</td>\n",
       "    </tr>\n",
       "    <tr>\n",
       "      <th>...</th>\n",
       "      <td>...</td>\n",
       "    </tr>\n",
       "    <tr>\n",
       "      <th>97</th>\n",
       "      <td>False</td>\n",
       "    </tr>\n",
       "    <tr>\n",
       "      <th>98</th>\n",
       "      <td>False</td>\n",
       "    </tr>\n",
       "    <tr>\n",
       "      <th>99</th>\n",
       "      <td>False</td>\n",
       "    </tr>\n",
       "    <tr>\n",
       "      <th>100</th>\n",
       "      <td>False</td>\n",
       "    </tr>\n",
       "    <tr>\n",
       "      <th>101</th>\n",
       "      <td>False</td>\n",
       "    </tr>\n",
       "  </tbody>\n",
       "</table>\n",
       "<p>99 rows × 1 columns</p>\n",
       "</div>"
      ],
      "text/plain": [
       "     PC;PMg;PP;PS;Psi;Pti;PNb;PCr;PBr;Pal;PV;Pcu;Pca;Pni;Pmo;Pn;Dureza\n",
       "0                                                False                \n",
       "1                                                False                \n",
       "2                                                False                \n",
       "3                                                False                \n",
       "4                                                False                \n",
       "..                                                 ...                \n",
       "97                                               False                \n",
       "98                                               False                \n",
       "99                                               False                \n",
       "100                                              False                \n",
       "101                                              False                \n",
       "\n",
       "[99 rows x 1 columns]"
      ]
     },
     "execution_count": 8,
     "metadata": {},
     "output_type": "execute_result"
    }
   ],
   "source": [
    "dataset.isna()"
   ]
  },
  {
   "cell_type": "markdown",
   "metadata": {},
   "source": [
    "GUARDAR DATOS PRE PROCESADOS"
   ]
  },
  {
   "cell_type": "code",
   "execution_count": 9,
   "metadata": {},
   "outputs": [],
   "source": [
    "guardar=DataFrame(dataset)\n",
    "guardar.to_csv('proyecto_pre_procesado.csv',index=False)"
   ]
  }
 ],
 "metadata": {
  "kernelspec": {
   "display_name": "Python 3.10.5 64-bit",
   "language": "python",
   "name": "python3"
  },
  "language_info": {
   "codemirror_mode": {
    "name": "ipython",
    "version": 3
   },
   "file_extension": ".py",
   "mimetype": "text/x-python",
   "name": "python",
   "nbconvert_exporter": "python",
   "pygments_lexer": "ipython3",
   "version": "3.10.5"
  },
  "orig_nbformat": 4,
  "vscode": {
   "interpreter": {
    "hash": "204cf68cbde5306ebdb29a111719c66673058cabe6e23ee361745513cd55c99f"
   }
  }
 },
 "nbformat": 4,
 "nbformat_minor": 2
}
